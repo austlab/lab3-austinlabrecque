{
  "nbformat": 4,
  "nbformat_minor": 0,
  "metadata": {
    "colab": {
      "name": "Untitled2.ipynb",
      "provenance": [],
      "authorship_tag": "ABX9TyPEbaZM4AUqEVg4cxymqVhN",
      "include_colab_link": true
    },
    "kernelspec": {
      "name": "python3",
      "display_name": "Python 3"
    },
    "language_info": {
      "name": "python"
    }
  },
  "cells": [
    {
      "cell_type": "markdown",
      "metadata": {
        "id": "view-in-github",
        "colab_type": "text"
      },
      "source": [
        "<a href=\"https://colab.research.google.com/github/austlab/lab3-austinlabrecque/blob/main/lab3-austinlabrecque.ipynb\" target=\"_parent\"><img src=\"https://colab.research.google.com/assets/colab-badge.svg\" alt=\"Open In Colab\"/></a>"
      ]
    },
    {
      "cell_type": "code",
      "source": [
        "!pip install faker"
      ],
      "metadata": {
        "colab": {
          "base_uri": "https://localhost:8080/"
        },
        "id": "Ky7YUMjIiMhz",
        "outputId": "157d856d-c0ae-4fe4-f458-4517c104dd6e"
      },
      "execution_count": 6,
      "outputs": [
        {
          "output_type": "stream",
          "name": "stdout",
          "text": [
            "Collecting faker\n",
            "  Downloading Faker-13.0.0-py3-none-any.whl (1.5 MB)\n",
            "\u001b[?25l\r\u001b[K     |▏                               | 10 kB 23.0 MB/s eta 0:00:01\r\u001b[K     |▍                               | 20 kB 24.2 MB/s eta 0:00:01\r\u001b[K     |▋                               | 30 kB 24.1 MB/s eta 0:00:01\r\u001b[K     |▉                               | 40 kB 19.5 MB/s eta 0:00:01\r\u001b[K     |█                               | 51 kB 6.0 MB/s eta 0:00:01\r\u001b[K     |█▎                              | 61 kB 7.0 MB/s eta 0:00:01\r\u001b[K     |█▌                              | 71 kB 8.0 MB/s eta 0:00:01\r\u001b[K     |█▊                              | 81 kB 8.9 MB/s eta 0:00:01\r\u001b[K     |██                              | 92 kB 9.9 MB/s eta 0:00:01\r\u001b[K     |██▏                             | 102 kB 9.7 MB/s eta 0:00:01\r\u001b[K     |██▍                             | 112 kB 9.7 MB/s eta 0:00:01\r\u001b[K     |██▋                             | 122 kB 9.7 MB/s eta 0:00:01\r\u001b[K     |██▉                             | 133 kB 9.7 MB/s eta 0:00:01\r\u001b[K     |███                             | 143 kB 9.7 MB/s eta 0:00:01\r\u001b[K     |███▎                            | 153 kB 9.7 MB/s eta 0:00:01\r\u001b[K     |███▌                            | 163 kB 9.7 MB/s eta 0:00:01\r\u001b[K     |███▊                            | 174 kB 9.7 MB/s eta 0:00:01\r\u001b[K     |████                            | 184 kB 9.7 MB/s eta 0:00:01\r\u001b[K     |████▏                           | 194 kB 9.7 MB/s eta 0:00:01\r\u001b[K     |████▍                           | 204 kB 9.7 MB/s eta 0:00:01\r\u001b[K     |████▋                           | 215 kB 9.7 MB/s eta 0:00:01\r\u001b[K     |████▉                           | 225 kB 9.7 MB/s eta 0:00:01\r\u001b[K     |█████                           | 235 kB 9.7 MB/s eta 0:00:01\r\u001b[K     |█████▎                          | 245 kB 9.7 MB/s eta 0:00:01\r\u001b[K     |█████▌                          | 256 kB 9.7 MB/s eta 0:00:01\r\u001b[K     |█████▊                          | 266 kB 9.7 MB/s eta 0:00:01\r\u001b[K     |██████                          | 276 kB 9.7 MB/s eta 0:00:01\r\u001b[K     |██████▏                         | 286 kB 9.7 MB/s eta 0:00:01\r\u001b[K     |██████▍                         | 296 kB 9.7 MB/s eta 0:00:01\r\u001b[K     |██████▋                         | 307 kB 9.7 MB/s eta 0:00:01\r\u001b[K     |██████▉                         | 317 kB 9.7 MB/s eta 0:00:01\r\u001b[K     |███████                         | 327 kB 9.7 MB/s eta 0:00:01\r\u001b[K     |███████▎                        | 337 kB 9.7 MB/s eta 0:00:01\r\u001b[K     |███████▌                        | 348 kB 9.7 MB/s eta 0:00:01\r\u001b[K     |███████▊                        | 358 kB 9.7 MB/s eta 0:00:01\r\u001b[K     |████████                        | 368 kB 9.7 MB/s eta 0:00:01\r\u001b[K     |████████▏                       | 378 kB 9.7 MB/s eta 0:00:01\r\u001b[K     |████████▍                       | 389 kB 9.7 MB/s eta 0:00:01\r\u001b[K     |████████▋                       | 399 kB 9.7 MB/s eta 0:00:01\r\u001b[K     |████████▉                       | 409 kB 9.7 MB/s eta 0:00:01\r\u001b[K     |█████████                       | 419 kB 9.7 MB/s eta 0:00:01\r\u001b[K     |█████████▎                      | 430 kB 9.7 MB/s eta 0:00:01\r\u001b[K     |█████████▌                      | 440 kB 9.7 MB/s eta 0:00:01\r\u001b[K     |█████████▊                      | 450 kB 9.7 MB/s eta 0:00:01\r\u001b[K     |██████████                      | 460 kB 9.7 MB/s eta 0:00:01\r\u001b[K     |██████████▏                     | 471 kB 9.7 MB/s eta 0:00:01\r\u001b[K     |██████████▍                     | 481 kB 9.7 MB/s eta 0:00:01\r\u001b[K     |██████████▋                     | 491 kB 9.7 MB/s eta 0:00:01\r\u001b[K     |██████████▉                     | 501 kB 9.7 MB/s eta 0:00:01\r\u001b[K     |███████████                     | 512 kB 9.7 MB/s eta 0:00:01\r\u001b[K     |███████████▎                    | 522 kB 9.7 MB/s eta 0:00:01\r\u001b[K     |███████████▌                    | 532 kB 9.7 MB/s eta 0:00:01\r\u001b[K     |███████████▊                    | 542 kB 9.7 MB/s eta 0:00:01\r\u001b[K     |████████████                    | 552 kB 9.7 MB/s eta 0:00:01\r\u001b[K     |████████████▏                   | 563 kB 9.7 MB/s eta 0:00:01\r\u001b[K     |████████████▍                   | 573 kB 9.7 MB/s eta 0:00:01\r\u001b[K     |████████████▋                   | 583 kB 9.7 MB/s eta 0:00:01\r\u001b[K     |████████████▉                   | 593 kB 9.7 MB/s eta 0:00:01\r\u001b[K     |█████████████                   | 604 kB 9.7 MB/s eta 0:00:01\r\u001b[K     |█████████████▎                  | 614 kB 9.7 MB/s eta 0:00:01\r\u001b[K     |█████████████▌                  | 624 kB 9.7 MB/s eta 0:00:01\r\u001b[K     |█████████████▊                  | 634 kB 9.7 MB/s eta 0:00:01\r\u001b[K     |██████████████                  | 645 kB 9.7 MB/s eta 0:00:01\r\u001b[K     |██████████████▏                 | 655 kB 9.7 MB/s eta 0:00:01\r\u001b[K     |██████████████▍                 | 665 kB 9.7 MB/s eta 0:00:01\r\u001b[K     |██████████████▋                 | 675 kB 9.7 MB/s eta 0:00:01\r\u001b[K     |██████████████▉                 | 686 kB 9.7 MB/s eta 0:00:01\r\u001b[K     |███████████████                 | 696 kB 9.7 MB/s eta 0:00:01\r\u001b[K     |███████████████▎                | 706 kB 9.7 MB/s eta 0:00:01\r\u001b[K     |███████████████▍                | 716 kB 9.7 MB/s eta 0:00:01\r\u001b[K     |███████████████▋                | 727 kB 9.7 MB/s eta 0:00:01\r\u001b[K     |███████████████▉                | 737 kB 9.7 MB/s eta 0:00:01\r\u001b[K     |████████████████                | 747 kB 9.7 MB/s eta 0:00:01\r\u001b[K     |████████████████▎               | 757 kB 9.7 MB/s eta 0:00:01\r\u001b[K     |████████████████▌               | 768 kB 9.7 MB/s eta 0:00:01\r\u001b[K     |████████████████▊               | 778 kB 9.7 MB/s eta 0:00:01\r\u001b[K     |█████████████████               | 788 kB 9.7 MB/s eta 0:00:01\r\u001b[K     |█████████████████▏              | 798 kB 9.7 MB/s eta 0:00:01\r\u001b[K     |█████████████████▍              | 808 kB 9.7 MB/s eta 0:00:01\r\u001b[K     |█████████████████▋              | 819 kB 9.7 MB/s eta 0:00:01\r\u001b[K     |█████████████████▉              | 829 kB 9.7 MB/s eta 0:00:01\r\u001b[K     |██████████████████              | 839 kB 9.7 MB/s eta 0:00:01\r\u001b[K     |██████████████████▎             | 849 kB 9.7 MB/s eta 0:00:01\r\u001b[K     |██████████████████▌             | 860 kB 9.7 MB/s eta 0:00:01\r\u001b[K     |██████████████████▊             | 870 kB 9.7 MB/s eta 0:00:01\r\u001b[K     |███████████████████             | 880 kB 9.7 MB/s eta 0:00:01\r\u001b[K     |███████████████████▏            | 890 kB 9.7 MB/s eta 0:00:01\r\u001b[K     |███████████████████▍            | 901 kB 9.7 MB/s eta 0:00:01\r\u001b[K     |███████████████████▋            | 911 kB 9.7 MB/s eta 0:00:01\r\u001b[K     |███████████████████▉            | 921 kB 9.7 MB/s eta 0:00:01\r\u001b[K     |████████████████████            | 931 kB 9.7 MB/s eta 0:00:01\r\u001b[K     |████████████████████▎           | 942 kB 9.7 MB/s eta 0:00:01\r\u001b[K     |████████████████████▌           | 952 kB 9.7 MB/s eta 0:00:01\r\u001b[K     |████████████████████▊           | 962 kB 9.7 MB/s eta 0:00:01\r\u001b[K     |█████████████████████           | 972 kB 9.7 MB/s eta 0:00:01\r\u001b[K     |█████████████████████▏          | 983 kB 9.7 MB/s eta 0:00:01\r\u001b[K     |█████████████████████▍          | 993 kB 9.7 MB/s eta 0:00:01\r\u001b[K     |█████████████████████▋          | 1.0 MB 9.7 MB/s eta 0:00:01\r\u001b[K     |█████████████████████▉          | 1.0 MB 9.7 MB/s eta 0:00:01\r\u001b[K     |██████████████████████          | 1.0 MB 9.7 MB/s eta 0:00:01\r\u001b[K     |██████████████████████▎         | 1.0 MB 9.7 MB/s eta 0:00:01\r\u001b[K     |██████████████████████▌         | 1.0 MB 9.7 MB/s eta 0:00:01\r\u001b[K     |██████████████████████▊         | 1.1 MB 9.7 MB/s eta 0:00:01\r\u001b[K     |███████████████████████         | 1.1 MB 9.7 MB/s eta 0:00:01\r\u001b[K     |███████████████████████▏        | 1.1 MB 9.7 MB/s eta 0:00:01\r\u001b[K     |███████████████████████▍        | 1.1 MB 9.7 MB/s eta 0:00:01\r\u001b[K     |███████████████████████▋        | 1.1 MB 9.7 MB/s eta 0:00:01\r\u001b[K     |███████████████████████▉        | 1.1 MB 9.7 MB/s eta 0:00:01\r\u001b[K     |████████████████████████        | 1.1 MB 9.7 MB/s eta 0:00:01\r\u001b[K     |████████████████████████▎       | 1.1 MB 9.7 MB/s eta 0:00:01\r\u001b[K     |████████████████████████▌       | 1.1 MB 9.7 MB/s eta 0:00:01\r\u001b[K     |████████████████████████▊       | 1.1 MB 9.7 MB/s eta 0:00:01\r\u001b[K     |█████████████████████████       | 1.2 MB 9.7 MB/s eta 0:00:01\r\u001b[K     |█████████████████████████▏      | 1.2 MB 9.7 MB/s eta 0:00:01\r\u001b[K     |█████████████████████████▍      | 1.2 MB 9.7 MB/s eta 0:00:01\r\u001b[K     |█████████████████████████▋      | 1.2 MB 9.7 MB/s eta 0:00:01\r\u001b[K     |█████████████████████████▉      | 1.2 MB 9.7 MB/s eta 0:00:01\r\u001b[K     |██████████████████████████      | 1.2 MB 9.7 MB/s eta 0:00:01\r\u001b[K     |██████████████████████████▎     | 1.2 MB 9.7 MB/s eta 0:00:01\r\u001b[K     |██████████████████████████▌     | 1.2 MB 9.7 MB/s eta 0:00:01\r\u001b[K     |██████████████████████████▊     | 1.2 MB 9.7 MB/s eta 0:00:01\r\u001b[K     |███████████████████████████     | 1.2 MB 9.7 MB/s eta 0:00:01\r\u001b[K     |███████████████████████████▏    | 1.3 MB 9.7 MB/s eta 0:00:01\r\u001b[K     |███████████████████████████▍    | 1.3 MB 9.7 MB/s eta 0:00:01\r\u001b[K     |███████████████████████████▋    | 1.3 MB 9.7 MB/s eta 0:00:01\r\u001b[K     |███████████████████████████▉    | 1.3 MB 9.7 MB/s eta 0:00:01\r\u001b[K     |████████████████████████████    | 1.3 MB 9.7 MB/s eta 0:00:01\r\u001b[K     |████████████████████████████▎   | 1.3 MB 9.7 MB/s eta 0:00:01\r\u001b[K     |████████████████████████████▌   | 1.3 MB 9.7 MB/s eta 0:00:01\r\u001b[K     |████████████████████████████▊   | 1.3 MB 9.7 MB/s eta 0:00:01\r\u001b[K     |█████████████████████████████   | 1.3 MB 9.7 MB/s eta 0:00:01\r\u001b[K     |█████████████████████████████▏  | 1.4 MB 9.7 MB/s eta 0:00:01\r\u001b[K     |█████████████████████████████▍  | 1.4 MB 9.7 MB/s eta 0:00:01\r\u001b[K     |█████████████████████████████▋  | 1.4 MB 9.7 MB/s eta 0:00:01\r\u001b[K     |█████████████████████████████▉  | 1.4 MB 9.7 MB/s eta 0:00:01\r\u001b[K     |██████████████████████████████  | 1.4 MB 9.7 MB/s eta 0:00:01\r\u001b[K     |██████████████████████████████▎ | 1.4 MB 9.7 MB/s eta 0:00:01\r\u001b[K     |██████████████████████████████▌ | 1.4 MB 9.7 MB/s eta 0:00:01\r\u001b[K     |██████████████████████████████▋ | 1.4 MB 9.7 MB/s eta 0:00:01\r\u001b[K     |██████████████████████████████▉ | 1.4 MB 9.7 MB/s eta 0:00:01\r\u001b[K     |███████████████████████████████ | 1.4 MB 9.7 MB/s eta 0:00:01\r\u001b[K     |███████████████████████████████▎| 1.5 MB 9.7 MB/s eta 0:00:01\r\u001b[K     |███████████████████████████████▌| 1.5 MB 9.7 MB/s eta 0:00:01\r\u001b[K     |███████████████████████████████▊| 1.5 MB 9.7 MB/s eta 0:00:01\r\u001b[K     |████████████████████████████████| 1.5 MB 9.7 MB/s eta 0:00:01\r\u001b[K     |████████████████████████████████| 1.5 MB 9.7 MB/s \n",
            "\u001b[?25hRequirement already satisfied: typing-extensions>=3.10.0.2 in /usr/local/lib/python3.7/dist-packages (from faker) (3.10.0.2)\n",
            "Requirement already satisfied: python-dateutil>=2.4 in /usr/local/lib/python3.7/dist-packages (from faker) (2.8.2)\n",
            "Requirement already satisfied: six>=1.5 in /usr/local/lib/python3.7/dist-packages (from python-dateutil>=2.4->faker) (1.15.0)\n",
            "Installing collected packages: faker\n",
            "Successfully installed faker-13.0.0\n"
          ]
        }
      ]
    },
    {
      "cell_type": "code",
      "source": [
        "import sqlite3\n",
        "\n",
        "#When we retreive a Connection object, a new database will be created for us if it doesn't already exist. \n",
        "myConnection = sqlite3.connect('social_network.db')\n",
        "print(sqlite3.version)"
      ],
      "metadata": {
        "colab": {
          "base_uri": "https://localhost:8080/"
        },
        "id": "JEZ1h0jlg3pI",
        "outputId": "4ffdf9e2-a9b2-4828-946a-6cd12b037dbe"
      },
      "execution_count": 3,
      "outputs": [
        {
          "output_type": "stream",
          "name": "stdout",
          "text": [
            "2.6.0\n"
          ]
        }
      ]
    },
    {
      "cell_type": "code",
      "source": [
        "import sqlite3\n",
        "\n",
        "#Retreive the Connection object\n",
        "myConnection = sqlite3.connect('social_network.db')\n",
        "\n",
        "#Once we have a Connection object, we can generate a Cursor object, and use that to run our SQL Queries\n",
        "myCursor = myConnection.cursor()\n",
        "\n",
        "#Let's define the SQL Query we will use to create our first table:\n",
        "createPeopleTable = \"\"\" CREATE TABLE IF NOT EXISTS people (\n",
        "                          id integer PRIMARY KEY,\n",
        "                          name text NOT NULL,\n",
        "                          email text NOT NULL,\n",
        "                          address text NOT NULL,\n",
        "                          city text NOT NULL,\n",
        "                          province text NOT NULL,\n",
        "                          country text NOT NULL,\n",
        "                          phone text,\n",
        "                          bio text,\n",
        "                          dob date NOT NULL,\n",
        "                          heatmap integer,\n",
        "                          created_at datetime NOT NULL,\n",
        "                          updated_at datetime NOT NULL,\n",
        "                          ipv4 text\n",
        "                        );\"\"\"\n",
        "\n",
        "#Now that we have the string to create our table,\n",
        "#Cursor objects have an execute() method which will accept an SQL string and perform the operations described.\n",
        "\n",
        "myCursor.execute(createPeopleTable)\n",
        "\n",
        "#We can confirm if our table was created successfully by running the following SQL Query\n",
        "#pragma_table_info is an internal SQLite function that will retun information about a table\n",
        "myCursor.execute(\"SELECT group_concat(name, ', ') FROM pragma_table_info('people')\")\n",
        "print(myCursor.fetchone())\n",
        "\n",
        "#We use to the commit() method on the database Connection object to persist our changes\n",
        "myConnection.commit()\n",
        "\n",
        "#It is always a good idea to close a connection when it will no longer be used\n",
        "myConnection.close()"
      ],
      "metadata": {
        "colab": {
          "base_uri": "https://localhost:8080/"
        },
        "id": "cEasKrb6g6bR",
        "outputId": "8a5c1fb3-457a-4bbd-c246-9eb9b4e4b1b5"
      },
      "execution_count": 4,
      "outputs": [
        {
          "output_type": "stream",
          "name": "stdout",
          "text": [
            "('id, name, email, address, city, province, country, phone, bio, dob, heatmap, created_at, updated_at, ipv4',)\n"
          ]
        }
      ]
    },
    {
      "cell_type": "code",
      "execution_count": 7,
      "metadata": {
        "id": "dOgOYbHAghz9"
      },
      "outputs": [],
      "source": [
        "#******************************************************************************\n",
        "# COMP 593 - Lab 3\n",
        "#\n",
        "# Description:\n",
        "#  Populates previously created table with random info using faker module .\n",
        "#\n",
        "#\n",
        "#  Date        Author   \n",
        "#  2/17/2022  Austin Labrecque  \n",
        "#******************************************************************************\n",
        "\n",
        "import sqlite3\n",
        "from faker import Faker\n",
        "from pprint import pprint\n",
        "from datetime import datetime \n",
        "from random import randint\n",
        "from random import randrange\n",
        "\n",
        "myConnection = sqlite3.connect('social_network.db')\n",
        "\n",
        "\n",
        "myCursor = myConnection.cursor()\n",
        "\n",
        "fake = Faker()\n",
        "\n",
        "provinces = ('Quebec', 'Ontario', 'Saskatchewan', 'Manitoba', 'Alberta', 'British Columbia', 'Newfoundland', 'Nova Scotia', 'New Brunswick')\n",
        "\n",
        "#From Joe Novak's notebook\n",
        "addPersonQuery = \"\"\"INSERT INTO people (name,  \n",
        "                      email, \n",
        "                      address, \n",
        "                      city, \n",
        "                      province,                      \n",
        "                      country, \n",
        "                      phone, \n",
        "                      bio,\n",
        "                      dob,\n",
        "                      heatmap,\n",
        "                      created_at, \n",
        "                      updated_at, \n",
        "                      ipv4)\n",
        "                  VALUES (?, ?, ?, ?, ?, ?, ?, ?, ?, ?, ?, ?, ?);\"\"\"\n",
        "\n",
        "for i in range(1000):\n",
        "  myPerson = (fake.name(), \n",
        "              fake.company_email(), \n",
        "              fake.address(), \n",
        "              fake.city(), \n",
        "              provinces[fake.random_int(min=0, max=len(provinces)-1)], \n",
        "              fake.country(), \n",
        "              fake.phone_number(), \n",
        "              fake.sentence(nb_words=5),\n",
        "              fake.date(),\n",
        "              fake.random_int(min=999, max=2500),\n",
        "              datetime.now(), \n",
        "              datetime.now(),\n",
        "              fake.ipv4()) \n",
        "  myCursor.execute(addPersonQuery, myPerson)  \n",
        "  myConnection.commit()\n",
        "\n",
        "myConnection.close()"
      ]
    },
    {
      "cell_type": "code",
      "source": [
        "import sqlite3\n",
        "import pprint\n",
        "\n",
        "myConnection = sqlite3.connect('social_network.db')\n",
        "\n",
        "myCursor = myConnection.cursor()\n",
        "\n",
        "selectStatement = \"\"\"SELECT name FROM people where heatmap > 1500 LIMIT 20 \"\"\"\n",
        "\n",
        "myCursor.execute(selectStatement)\n",
        "results = myCursor.fetchall()\n",
        "print(results)"
      ],
      "metadata": {
        "colab": {
          "base_uri": "https://localhost:8080/"
        },
        "id": "H4GbECeQhRA2",
        "outputId": "14a785a9-1f5c-4f93-e4df-8719ffee3813"
      },
      "execution_count": 8,
      "outputs": [
        {
          "output_type": "stream",
          "name": "stdout",
          "text": [
            "[('Laura Andrews',), ('Kayla Harrison',), ('Beverly Mcdaniel',), ('Daniel Huang',), ('Theresa Stone',), ('Janice Paul',), ('Crystal Fox MD',), ('Amy Chang',), ('Dawn Roberson',), ('Katherine Carter',), ('William Ellis',), ('Charles James',), ('Marvin Young',), ('Robert Wood',), ('Patrick Steele',), ('Rodney Salazar',), ('Matthew Gutierrez',), ('Joseph Thompson',), ('Mark Carson',), ('Heather Green',)]\n"
          ]
        }
      ]
    }
  ]
}